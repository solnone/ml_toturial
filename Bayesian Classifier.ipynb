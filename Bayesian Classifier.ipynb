{
 "cells": [
  {
   "cell_type": "code",
   "execution_count": 1,
   "metadata": {},
   "outputs": [],
   "source": [
    "from sklearn.naive_bayes import GaussianNB\n",
    "from sklearn.naive_bayes import MultinomialNB\n",
    "from sklearn.naive_bayes import BernoulliNB\n",
    "from sklearn import datasets\n",
    "from sklearn.model_selection import train_test_split\n",
    "import matplotlib.pyplot as plt\n",
    "import numpy as np\n",
    "import pandas as pd\n",
    "%matplotlib inline"
   ]
  },
  {
   "cell_type": "code",
   "execution_count": 2,
   "metadata": {},
   "outputs": [],
   "source": [
    "iris=datasets.load_iris()"
   ]
  },
  {
   "cell_type": "code",
   "execution_count": 3,
   "metadata": {},
   "outputs": [
    {
     "data": {
      "text/plain": [
       "{'data': array([[5.1, 3.5, 1.4, 0.2],\n",
       "        [4.9, 3. , 1.4, 0.2],\n",
       "        [4.7, 3.2, 1.3, 0.2],\n",
       "        [4.6, 3.1, 1.5, 0.2],\n",
       "        [5. , 3.6, 1.4, 0.2],\n",
       "        [5.4, 3.9, 1.7, 0.4],\n",
       "        [4.6, 3.4, 1.4, 0.3],\n",
       "        [5. , 3.4, 1.5, 0.2],\n",
       "        [4.4, 2.9, 1.4, 0.2],\n",
       "        [4.9, 3.1, 1.5, 0.1],\n",
       "        [5.4, 3.7, 1.5, 0.2],\n",
       "        [4.8, 3.4, 1.6, 0.2],\n",
       "        [4.8, 3. , 1.4, 0.1],\n",
       "        [4.3, 3. , 1.1, 0.1],\n",
       "        [5.8, 4. , 1.2, 0.2],\n",
       "        [5.7, 4.4, 1.5, 0.4],\n",
       "        [5.4, 3.9, 1.3, 0.4],\n",
       "        [5.1, 3.5, 1.4, 0.3],\n",
       "        [5.7, 3.8, 1.7, 0.3],\n",
       "        [5.1, 3.8, 1.5, 0.3],\n",
       "        [5.4, 3.4, 1.7, 0.2],\n",
       "        [5.1, 3.7, 1.5, 0.4],\n",
       "        [4.6, 3.6, 1. , 0.2],\n",
       "        [5.1, 3.3, 1.7, 0.5],\n",
       "        [4.8, 3.4, 1.9, 0.2],\n",
       "        [5. , 3. , 1.6, 0.2],\n",
       "        [5. , 3.4, 1.6, 0.4],\n",
       "        [5.2, 3.5, 1.5, 0.2],\n",
       "        [5.2, 3.4, 1.4, 0.2],\n",
       "        [4.7, 3.2, 1.6, 0.2],\n",
       "        [4.8, 3.1, 1.6, 0.2],\n",
       "        [5.4, 3.4, 1.5, 0.4],\n",
       "        [5.2, 4.1, 1.5, 0.1],\n",
       "        [5.5, 4.2, 1.4, 0.2],\n",
       "        [4.9, 3.1, 1.5, 0.2],\n",
       "        [5. , 3.2, 1.2, 0.2],\n",
       "        [5.5, 3.5, 1.3, 0.2],\n",
       "        [4.9, 3.6, 1.4, 0.1],\n",
       "        [4.4, 3. , 1.3, 0.2],\n",
       "        [5.1, 3.4, 1.5, 0.2],\n",
       "        [5. , 3.5, 1.3, 0.3],\n",
       "        [4.5, 2.3, 1.3, 0.3],\n",
       "        [4.4, 3.2, 1.3, 0.2],\n",
       "        [5. , 3.5, 1.6, 0.6],\n",
       "        [5.1, 3.8, 1.9, 0.4],\n",
       "        [4.8, 3. , 1.4, 0.3],\n",
       "        [5.1, 3.8, 1.6, 0.2],\n",
       "        [4.6, 3.2, 1.4, 0.2],\n",
       "        [5.3, 3.7, 1.5, 0.2],\n",
       "        [5. , 3.3, 1.4, 0.2],\n",
       "        [7. , 3.2, 4.7, 1.4],\n",
       "        [6.4, 3.2, 4.5, 1.5],\n",
       "        [6.9, 3.1, 4.9, 1.5],\n",
       "        [5.5, 2.3, 4. , 1.3],\n",
       "        [6.5, 2.8, 4.6, 1.5],\n",
       "        [5.7, 2.8, 4.5, 1.3],\n",
       "        [6.3, 3.3, 4.7, 1.6],\n",
       "        [4.9, 2.4, 3.3, 1. ],\n",
       "        [6.6, 2.9, 4.6, 1.3],\n",
       "        [5.2, 2.7, 3.9, 1.4],\n",
       "        [5. , 2. , 3.5, 1. ],\n",
       "        [5.9, 3. , 4.2, 1.5],\n",
       "        [6. , 2.2, 4. , 1. ],\n",
       "        [6.1, 2.9, 4.7, 1.4],\n",
       "        [5.6, 2.9, 3.6, 1.3],\n",
       "        [6.7, 3.1, 4.4, 1.4],\n",
       "        [5.6, 3. , 4.5, 1.5],\n",
       "        [5.8, 2.7, 4.1, 1. ],\n",
       "        [6.2, 2.2, 4.5, 1.5],\n",
       "        [5.6, 2.5, 3.9, 1.1],\n",
       "        [5.9, 3.2, 4.8, 1.8],\n",
       "        [6.1, 2.8, 4. , 1.3],\n",
       "        [6.3, 2.5, 4.9, 1.5],\n",
       "        [6.1, 2.8, 4.7, 1.2],\n",
       "        [6.4, 2.9, 4.3, 1.3],\n",
       "        [6.6, 3. , 4.4, 1.4],\n",
       "        [6.8, 2.8, 4.8, 1.4],\n",
       "        [6.7, 3. , 5. , 1.7],\n",
       "        [6. , 2.9, 4.5, 1.5],\n",
       "        [5.7, 2.6, 3.5, 1. ],\n",
       "        [5.5, 2.4, 3.8, 1.1],\n",
       "        [5.5, 2.4, 3.7, 1. ],\n",
       "        [5.8, 2.7, 3.9, 1.2],\n",
       "        [6. , 2.7, 5.1, 1.6],\n",
       "        [5.4, 3. , 4.5, 1.5],\n",
       "        [6. , 3.4, 4.5, 1.6],\n",
       "        [6.7, 3.1, 4.7, 1.5],\n",
       "        [6.3, 2.3, 4.4, 1.3],\n",
       "        [5.6, 3. , 4.1, 1.3],\n",
       "        [5.5, 2.5, 4. , 1.3],\n",
       "        [5.5, 2.6, 4.4, 1.2],\n",
       "        [6.1, 3. , 4.6, 1.4],\n",
       "        [5.8, 2.6, 4. , 1.2],\n",
       "        [5. , 2.3, 3.3, 1. ],\n",
       "        [5.6, 2.7, 4.2, 1.3],\n",
       "        [5.7, 3. , 4.2, 1.2],\n",
       "        [5.7, 2.9, 4.2, 1.3],\n",
       "        [6.2, 2.9, 4.3, 1.3],\n",
       "        [5.1, 2.5, 3. , 1.1],\n",
       "        [5.7, 2.8, 4.1, 1.3],\n",
       "        [6.3, 3.3, 6. , 2.5],\n",
       "        [5.8, 2.7, 5.1, 1.9],\n",
       "        [7.1, 3. , 5.9, 2.1],\n",
       "        [6.3, 2.9, 5.6, 1.8],\n",
       "        [6.5, 3. , 5.8, 2.2],\n",
       "        [7.6, 3. , 6.6, 2.1],\n",
       "        [4.9, 2.5, 4.5, 1.7],\n",
       "        [7.3, 2.9, 6.3, 1.8],\n",
       "        [6.7, 2.5, 5.8, 1.8],\n",
       "        [7.2, 3.6, 6.1, 2.5],\n",
       "        [6.5, 3.2, 5.1, 2. ],\n",
       "        [6.4, 2.7, 5.3, 1.9],\n",
       "        [6.8, 3. , 5.5, 2.1],\n",
       "        [5.7, 2.5, 5. , 2. ],\n",
       "        [5.8, 2.8, 5.1, 2.4],\n",
       "        [6.4, 3.2, 5.3, 2.3],\n",
       "        [6.5, 3. , 5.5, 1.8],\n",
       "        [7.7, 3.8, 6.7, 2.2],\n",
       "        [7.7, 2.6, 6.9, 2.3],\n",
       "        [6. , 2.2, 5. , 1.5],\n",
       "        [6.9, 3.2, 5.7, 2.3],\n",
       "        [5.6, 2.8, 4.9, 2. ],\n",
       "        [7.7, 2.8, 6.7, 2. ],\n",
       "        [6.3, 2.7, 4.9, 1.8],\n",
       "        [6.7, 3.3, 5.7, 2.1],\n",
       "        [7.2, 3.2, 6. , 1.8],\n",
       "        [6.2, 2.8, 4.8, 1.8],\n",
       "        [6.1, 3. , 4.9, 1.8],\n",
       "        [6.4, 2.8, 5.6, 2.1],\n",
       "        [7.2, 3. , 5.8, 1.6],\n",
       "        [7.4, 2.8, 6.1, 1.9],\n",
       "        [7.9, 3.8, 6.4, 2. ],\n",
       "        [6.4, 2.8, 5.6, 2.2],\n",
       "        [6.3, 2.8, 5.1, 1.5],\n",
       "        [6.1, 2.6, 5.6, 1.4],\n",
       "        [7.7, 3. , 6.1, 2.3],\n",
       "        [6.3, 3.4, 5.6, 2.4],\n",
       "        [6.4, 3.1, 5.5, 1.8],\n",
       "        [6. , 3. , 4.8, 1.8],\n",
       "        [6.9, 3.1, 5.4, 2.1],\n",
       "        [6.7, 3.1, 5.6, 2.4],\n",
       "        [6.9, 3.1, 5.1, 2.3],\n",
       "        [5.8, 2.7, 5.1, 1.9],\n",
       "        [6.8, 3.2, 5.9, 2.3],\n",
       "        [6.7, 3.3, 5.7, 2.5],\n",
       "        [6.7, 3. , 5.2, 2.3],\n",
       "        [6.3, 2.5, 5. , 1.9],\n",
       "        [6.5, 3. , 5.2, 2. ],\n",
       "        [6.2, 3.4, 5.4, 2.3],\n",
       "        [5.9, 3. , 5.1, 1.8]]),\n",
       " 'target': array([0, 0, 0, 0, 0, 0, 0, 0, 0, 0, 0, 0, 0, 0, 0, 0, 0, 0, 0, 0, 0, 0,\n",
       "        0, 0, 0, 0, 0, 0, 0, 0, 0, 0, 0, 0, 0, 0, 0, 0, 0, 0, 0, 0, 0, 0,\n",
       "        0, 0, 0, 0, 0, 0, 1, 1, 1, 1, 1, 1, 1, 1, 1, 1, 1, 1, 1, 1, 1, 1,\n",
       "        1, 1, 1, 1, 1, 1, 1, 1, 1, 1, 1, 1, 1, 1, 1, 1, 1, 1, 1, 1, 1, 1,\n",
       "        1, 1, 1, 1, 1, 1, 1, 1, 1, 1, 1, 1, 2, 2, 2, 2, 2, 2, 2, 2, 2, 2,\n",
       "        2, 2, 2, 2, 2, 2, 2, 2, 2, 2, 2, 2, 2, 2, 2, 2, 2, 2, 2, 2, 2, 2,\n",
       "        2, 2, 2, 2, 2, 2, 2, 2, 2, 2, 2, 2, 2, 2, 2, 2, 2, 2]),\n",
       " 'frame': None,\n",
       " 'target_names': array(['setosa', 'versicolor', 'virginica'], dtype='<U10'),\n",
       " 'DESCR': '.. _iris_dataset:\\n\\nIris plants dataset\\n--------------------\\n\\n**Data Set Characteristics:**\\n\\n:Number of Instances: 150 (50 in each of three classes)\\n:Number of Attributes: 4 numeric, predictive attributes and the class\\n:Attribute Information:\\n    - sepal length in cm\\n    - sepal width in cm\\n    - petal length in cm\\n    - petal width in cm\\n    - class:\\n            - Iris-Setosa\\n            - Iris-Versicolour\\n            - Iris-Virginica\\n\\n:Summary Statistics:\\n\\n============== ==== ==== ======= ===== ====================\\n                Min  Max   Mean    SD   Class Correlation\\n============== ==== ==== ======= ===== ====================\\nsepal length:   4.3  7.9   5.84   0.83    0.7826\\nsepal width:    2.0  4.4   3.05   0.43   -0.4194\\npetal length:   1.0  6.9   3.76   1.76    0.9490  (high!)\\npetal width:    0.1  2.5   1.20   0.76    0.9565  (high!)\\n============== ==== ==== ======= ===== ====================\\n\\n:Missing Attribute Values: None\\n:Class Distribution: 33.3% for each of 3 classes.\\n:Creator: R.A. Fisher\\n:Donor: Michael Marshall (MARSHALL%PLU@io.arc.nasa.gov)\\n:Date: July, 1988\\n\\nThe famous Iris database, first used by Sir R.A. Fisher. The dataset is taken\\nfrom Fisher\\'s paper. Note that it\\'s the same as in R, but not as in the UCI\\nMachine Learning Repository, which has two wrong data points.\\n\\nThis is perhaps the best known database to be found in the\\npattern recognition literature.  Fisher\\'s paper is a classic in the field and\\nis referenced frequently to this day.  (See Duda & Hart, for example.)  The\\ndata set contains 3 classes of 50 instances each, where each class refers to a\\ntype of iris plant.  One class is linearly separable from the other 2; the\\nlatter are NOT linearly separable from each other.\\n\\n.. dropdown:: References\\n\\n  - Fisher, R.A. \"The use of multiple measurements in taxonomic problems\"\\n    Annual Eugenics, 7, Part II, 179-188 (1936); also in \"Contributions to\\n    Mathematical Statistics\" (John Wiley, NY, 1950).\\n  - Duda, R.O., & Hart, P.E. (1973) Pattern Classification and Scene Analysis.\\n    (Q327.D83) John Wiley & Sons.  ISBN 0-471-22361-1.  See page 218.\\n  - Dasarathy, B.V. (1980) \"Nosing Around the Neighborhood: A New System\\n    Structure and Classification Rule for Recognition in Partially Exposed\\n    Environments\".  IEEE Transactions on Pattern Analysis and Machine\\n    Intelligence, Vol. PAMI-2, No. 1, 67-71.\\n  - Gates, G.W. (1972) \"The Reduced Nearest Neighbor Rule\".  IEEE Transactions\\n    on Information Theory, May 1972, 431-433.\\n  - See also: 1988 MLC Proceedings, 54-64.  Cheeseman et al\"s AUTOCLASS II\\n    conceptual clustering system finds 3 classes in the data.\\n  - Many, many more ...\\n',\n",
       " 'feature_names': ['sepal length (cm)',\n",
       "  'sepal width (cm)',\n",
       "  'petal length (cm)',\n",
       "  'petal width (cm)'],\n",
       " 'filename': 'iris.csv',\n",
       " 'data_module': 'sklearn.datasets.data'}"
      ]
     },
     "execution_count": 3,
     "metadata": {},
     "output_type": "execute_result"
    }
   ],
   "source": [
    "iris"
   ]
  },
  {
   "cell_type": "code",
   "execution_count": 4,
   "metadata": {},
   "outputs": [],
   "source": [
    "X=iris.data\n",
    "y=iris.target"
   ]
  },
  {
   "cell_type": "code",
   "execution_count": 5,
   "metadata": {},
   "outputs": [],
   "source": [
    "X_train,X_test,y_train,y_test=train_test_split(X,y,test_size=0.3)"
   ]
  },
  {
   "cell_type": "markdown",
   "metadata": {},
   "source": [
    "## Gaussian Naive Bayes"
   ]
  },
  {
   "cell_type": "markdown",
   "metadata": {},
   "source": [
    "### 主要用於連續變數，比方說特徵長度為幾公分、重量為幾公斤等等。"
   ]
  },
  {
   "cell_type": "markdown",
   "metadata": {},
   "source": [
    "$$ P(X_j|Y_i)=\\frac{1}{\\sqrt{2\\pi\\sigma_{Y_i}^2}} exp(-\\frac{(X_j-\\mu_{Y_i})^2}{2\\sigma_{Y_i}^{2}})$$"
   ]
  },
  {
   "cell_type": "code",
   "execution_count": 6,
   "metadata": {},
   "outputs": [
    {
     "data": {
      "text/plain": [
       "array([1, 0, 1, 0, 2, 1, 0, 1, 1, 2, 1, 2, 2, 1, 1, 2, 0, 0, 2, 0, 1, 1,\n",
       "       1, 1, 2, 0, 2, 2, 2, 1, 2, 1, 2, 0, 0, 0, 2, 1, 1, 0, 2, 0, 2, 2,\n",
       "       2])"
      ]
     },
     "execution_count": 6,
     "metadata": {},
     "output_type": "execute_result"
    }
   ],
   "source": [
    "modelg=GaussianNB()\n",
    "modelg.fit(X_train,y_train)\n",
    "modelg.predict(X_test)"
   ]
  },
  {
   "cell_type": "code",
   "execution_count": 7,
   "metadata": {
    "scrolled": true
   },
   "outputs": [
    {
     "data": {
      "text/plain": [
       "array([[3.77832030e-043, 1.00000000e+000, 4.21004935e-010],\n",
       "       [1.00000000e+000, 1.10635060e-013, 1.96429811e-025],\n",
       "       [3.12498254e-103, 9.99658771e-001, 3.41229198e-004],\n",
       "       [1.00000000e+000, 4.79071949e-013, 1.39761525e-025],\n",
       "       [4.79396961e-275, 4.53696303e-009, 9.99999995e-001],\n",
       "       [1.52344146e-102, 9.99818515e-001, 1.81485105e-004],\n",
       "       [1.00000000e+000, 5.34494525e-018, 4.08576979e-031],\n",
       "       [1.67718052e-132, 7.38235178e-001, 2.61764822e-001],\n",
       "       [9.09697801e-194, 8.81395643e-001, 1.18604357e-001],\n",
       "       [7.26570071e-198, 6.91383349e-003, 9.93086167e-001],\n",
       "       [3.02262491e-077, 9.99998976e-001, 1.02368519e-006],\n",
       "       [9.56565931e-150, 3.70716958e-001, 6.29283042e-001],\n",
       "       [1.75318751e-281, 7.85906833e-007, 9.99999214e-001],\n",
       "       [1.72640435e-083, 9.99995535e-001, 4.46523845e-006],\n",
       "       [4.73523745e-129, 9.98279466e-001, 1.72053369e-003],\n",
       "       [1.02497988e-161, 1.64474325e-001, 8.35525675e-001],\n",
       "       [1.00000000e+000, 2.53418482e-016, 2.24000072e-029],\n",
       "       [1.00000000e+000, 6.49154499e-017, 3.29200300e-030],\n",
       "       [8.39800634e-219, 8.48807514e-007, 9.99999151e-001],\n",
       "       [1.00000000e+000, 2.99210592e-014, 6.12224748e-027],\n",
       "       [8.64215577e-090, 9.99975512e-001, 2.44879633e-005],\n",
       "       [9.36184780e-136, 8.00116032e-001, 1.99883968e-001],\n",
       "       [2.25376313e-082, 9.99998995e-001, 1.00450042e-006],\n",
       "       [2.42478169e-113, 9.93806363e-001, 6.19363690e-003],\n",
       "       [4.38098200e-172, 5.43109015e-002, 9.45689099e-001],\n",
       "       [1.00000000e+000, 1.73482802e-019, 6.05766626e-032],\n",
       "       [0.00000000e+000, 1.46970541e-012, 1.00000000e+000],\n",
       "       [3.84365732e-207, 1.80941740e-003, 9.98190583e-001],\n",
       "       [2.71526889e-233, 1.85475989e-003, 9.98145240e-001],\n",
       "       [1.36686708e-086, 9.99981485e-001, 1.85154212e-005],\n",
       "       [2.83376237e-179, 1.16170875e-001, 8.83829125e-001],\n",
       "       [1.86692187e-154, 9.98796011e-001, 1.20398901e-003],\n",
       "       [3.94041433e-234, 2.55063849e-005, 9.99974494e-001],\n",
       "       [1.00000000e+000, 6.41953277e-018, 1.01696714e-031],\n",
       "       [1.00000000e+000, 2.05779207e-015, 6.35698218e-029],\n",
       "       [1.00000000e+000, 1.52683065e-011, 3.68476130e-023],\n",
       "       [4.17527414e-296, 2.07184530e-010, 1.00000000e+000],\n",
       "       [1.06091522e-124, 9.09041306e-001, 9.09586939e-002],\n",
       "       [2.83162018e-138, 6.68783650e-001, 3.31216350e-001],\n",
       "       [1.00000000e+000, 3.63755569e-015, 1.46380145e-027],\n",
       "       [1.66363449e-175, 1.30412625e-001, 8.69587375e-001],\n",
       "       [1.00000000e+000, 5.38936368e-016, 1.15627487e-029],\n",
       "       [1.57860071e-309, 1.21548000e-012, 1.00000000e+000],\n",
       "       [8.50752959e-163, 3.04701261e-001, 6.95298739e-001],\n",
       "       [4.04377723e-197, 4.07000960e-004, 9.99592999e-001]])"
      ]
     },
     "execution_count": 7,
     "metadata": {},
     "output_type": "execute_result"
    }
   ],
   "source": [
    "modelg.predict_proba(X_test)"
   ]
  },
  {
   "cell_type": "code",
   "execution_count": 8,
   "metadata": {},
   "outputs": [
    {
     "name": "stdout",
     "output_type": "stream",
     "text": [
      "Training Set Score: 0.9714285714285714\n",
      "Test Set Score: 0.9111111111111111\n"
     ]
    }
   ],
   "source": [
    "print('Training Set Score:',modelg.score(X_train,y_train))\n",
    "print('Test Set Score:',modelg.score(X_test,y_test))"
   ]
  },
  {
   "cell_type": "markdown",
   "metadata": {},
   "source": [
    "## Multinomial Naive Bayes"
   ]
  },
  {
   "cell_type": "markdown",
   "metadata": {},
   "source": [
    "### 主要用在離散變數，比方說次數、類別等等。"
   ]
  },
  {
   "cell_type": "markdown",
   "metadata": {},
   "source": [
    " $$ P(Y_i)=\\frac{N_{Y_i}+\\alpha}{N+K_\\alpha} $$\n",
    " $$ $$\n",
    " $$P(X_j|Y_i)=\\frac{N_{Y_i,x_j}+\\alpha}{N_{Y_i}+n\\alpha} $$ \n",
    " "
   ]
  },
  {
   "cell_type": "code",
   "execution_count": 9,
   "metadata": {},
   "outputs": [
    {
     "data": {
      "text/plain": [
       "array([1, 0, 1, 0, 1, 1, 0, 1, 1, 1, 1, 1, 1, 1, 1, 1, 0, 0, 1, 0, 1, 1,\n",
       "       1, 1, 1, 0, 2, 1, 1, 1, 2, 1, 1, 0, 0, 0, 2, 1, 1, 0, 1, 0, 1, 1,\n",
       "       1])"
      ]
     },
     "execution_count": 9,
     "metadata": {},
     "output_type": "execute_result"
    }
   ],
   "source": [
    "modelm=MultinomialNB()\n",
    "modelm.fit(X_train,y_train)\n",
    "modelm.predict(X_test)"
   ]
  },
  {
   "cell_type": "code",
   "execution_count": 10,
   "metadata": {},
   "outputs": [
    {
     "data": {
      "text/plain": [
       "array([[0.11792256, 0.49956603, 0.3825114 ],\n",
       "       [0.73632656, 0.17473812, 0.08893532],\n",
       "       [0.07046044, 0.53069899, 0.39884057],\n",
       "       [0.67352828, 0.21246053, 0.11401119],\n",
       "       [0.00720884, 0.49644684, 0.49634433],\n",
       "       [0.06776036, 0.52877593, 0.40346371],\n",
       "       [0.78016847, 0.1462561 , 0.07357544],\n",
       "       [0.06183214, 0.54031547, 0.39785239],\n",
       "       [0.01859572, 0.52231887, 0.45908541],\n",
       "       [0.01344029, 0.50859777, 0.47796193],\n",
       "       [0.08471521, 0.51983021, 0.39545458],\n",
       "       [0.04346882, 0.53857172, 0.41795947],\n",
       "       [0.00974034, 0.52100651, 0.46925315],\n",
       "       [0.05843291, 0.51325949, 0.4283076 ],\n",
       "       [0.02101123, 0.49722877, 0.48176   ],\n",
       "       [0.02340108, 0.5161151 , 0.46048382],\n",
       "       [0.7219939 , 0.18216324, 0.09584286],\n",
       "       [0.76654909, 0.15524497, 0.07820593],\n",
       "       [0.01073335, 0.50010619, 0.48916047],\n",
       "       [0.73095925, 0.17863761, 0.09040313],\n",
       "       [0.07356497, 0.52000827, 0.40642676],\n",
       "       [0.04839773, 0.53532838, 0.41627389],\n",
       "       [0.07466255, 0.52216436, 0.40317309],\n",
       "       [0.06348602, 0.53314728, 0.4033667 ],\n",
       "       [0.01428569, 0.49595204, 0.48976227],\n",
       "       [0.84836132, 0.10379791, 0.04784077],\n",
       "       [0.00280886, 0.48687908, 0.51031206],\n",
       "       [0.01675014, 0.51755606, 0.4656938 ],\n",
       "       [0.00992141, 0.50962792, 0.48045067],\n",
       "       [0.07794038, 0.52388063, 0.39817899],\n",
       "       [0.01129777, 0.49156861, 0.49713362],\n",
       "       [0.01983405, 0.51562077, 0.46454518],\n",
       "       [0.0086278 , 0.49657918, 0.49479302],\n",
       "       [0.7280383 , 0.17652954, 0.09543215],\n",
       "       [0.68496809, 0.20465159, 0.11038032],\n",
       "       [0.67992766, 0.20893227, 0.11114007],\n",
       "       [0.00483623, 0.47693211, 0.51823166],\n",
       "       [0.05078396, 0.5249484 , 0.42426764],\n",
       "       [0.04395871, 0.52903132, 0.42700997],\n",
       "       [0.73127533, 0.17650999, 0.09221468],\n",
       "       [0.01469886, 0.50686904, 0.4784321 ],\n",
       "       [0.70553657, 0.19223658, 0.10222685],\n",
       "       [0.00650542, 0.49758864, 0.49590594],\n",
       "       [0.02044285, 0.51531962, 0.46423753],\n",
       "       [0.01546669, 0.51134892, 0.47318438]])"
      ]
     },
     "execution_count": 10,
     "metadata": {},
     "output_type": "execute_result"
    }
   ],
   "source": [
    "modelm.predict_proba(X_test)"
   ]
  },
  {
   "cell_type": "code",
   "execution_count": 11,
   "metadata": {},
   "outputs": [
    {
     "name": "stdout",
     "output_type": "stream",
     "text": [
      "Training Set Score: 0.7619047619047619\n",
      "Test Set Score: 0.6444444444444445\n"
     ]
    }
   ],
   "source": [
    "print('Training Set Score:',modelm.score(X_train,y_train))\n",
    "print('Test Set Score:',modelm.score(X_test,y_test))"
   ]
  },
  {
   "cell_type": "markdown",
   "metadata": {},
   "source": [
    "## Bernoulli Naive Bayes"
   ]
  },
  {
   "cell_type": "markdown",
   "metadata": {},
   "source": [
    "### 用在二元的特徵，比方說特徵是否出現、特徵大小、特徵長短等等這種二元的分類。"
   ]
  },
  {
   "cell_type": "markdown",
   "metadata": {},
   "source": [
    "$$ P(X_j|Y_i)=P_{Y_i}^{X_j}(1-P_{Y_i})^{X_j} $$"
   ]
  },
  {
   "cell_type": "code",
   "execution_count": 12,
   "metadata": {},
   "outputs": [
    {
     "data": {
      "text/plain": [
       "array([0, 0, 0, 0, 0, 0, 0, 0, 0, 0, 0, 0, 0, 0, 0, 0, 0, 0, 0, 0, 0, 0,\n",
       "       0, 0, 0, 0, 0, 0, 0, 0, 0, 0, 0, 0, 0, 0, 0, 0, 0, 0, 0, 0, 0, 0,\n",
       "       0])"
      ]
     },
     "execution_count": 12,
     "metadata": {},
     "output_type": "execute_result"
    }
   ],
   "source": [
    "modelb = BernoulliNB()\n",
    "modelb.fit(X_train,y_train)\n",
    "modelb.predict(X_test)"
   ]
  },
  {
   "cell_type": "code",
   "execution_count": 24,
   "metadata": {},
   "outputs": [
    {
     "data": {
      "text/plain": [
       "array([0, 0, 2, 0, 2, 2, 0, 2, 2, 2, 2, 2, 2, 2, 2, 2, 0, 0, 2, 0, 2, 2,\n",
       "       2, 2, 2, 0, 2, 2, 2, 2, 2, 2, 2, 0, 0, 0, 2, 2, 2, 0, 2, 0, 2, 2,\n",
       "       2])"
      ]
     },
     "execution_count": 24,
     "metadata": {},
     "output_type": "execute_result"
    }
   ],
   "source": [
    "modelb = BernoulliNB(binarize=1)\n",
    "modelb.fit(X_train,y_train)\n",
    "modelb.predict(X_test)"
   ]
  },
  {
   "cell_type": "code",
   "execution_count": 25,
   "metadata": {},
   "outputs": [
    {
     "data": {
      "text/plain": [
       "0.6888888888888889"
      ]
     },
     "execution_count": 25,
     "metadata": {},
     "output_type": "execute_result"
    }
   ],
   "source": [
    "modelb.score(X_test,y_test)"
   ]
  },
  {
   "cell_type": "code",
   "execution_count": 26,
   "metadata": {},
   "outputs": [
    {
     "data": {
      "text/html": [
       "<div>\n",
       "<style scoped>\n",
       "    .dataframe tbody tr th:only-of-type {\n",
       "        vertical-align: middle;\n",
       "    }\n",
       "\n",
       "    .dataframe tbody tr th {\n",
       "        vertical-align: top;\n",
       "    }\n",
       "\n",
       "    .dataframe thead th {\n",
       "        text-align: right;\n",
       "    }\n",
       "</style>\n",
       "<table border=\"1\" class=\"dataframe\">\n",
       "  <thead>\n",
       "    <tr style=\"text-align: right;\">\n",
       "      <th></th>\n",
       "      <th>0</th>\n",
       "      <th>1</th>\n",
       "      <th>2</th>\n",
       "      <th>3</th>\n",
       "    </tr>\n",
       "  </thead>\n",
       "  <tbody>\n",
       "    <tr>\n",
       "      <th>count</th>\n",
       "      <td>150.000000</td>\n",
       "      <td>150.000000</td>\n",
       "      <td>150.000000</td>\n",
       "      <td>150.000000</td>\n",
       "    </tr>\n",
       "    <tr>\n",
       "      <th>mean</th>\n",
       "      <td>5.843333</td>\n",
       "      <td>3.057333</td>\n",
       "      <td>3.758000</td>\n",
       "      <td>1.199333</td>\n",
       "    </tr>\n",
       "    <tr>\n",
       "      <th>std</th>\n",
       "      <td>0.828066</td>\n",
       "      <td>0.435866</td>\n",
       "      <td>1.765298</td>\n",
       "      <td>0.762238</td>\n",
       "    </tr>\n",
       "    <tr>\n",
       "      <th>min</th>\n",
       "      <td>4.300000</td>\n",
       "      <td>2.000000</td>\n",
       "      <td>1.000000</td>\n",
       "      <td>0.100000</td>\n",
       "    </tr>\n",
       "    <tr>\n",
       "      <th>25%</th>\n",
       "      <td>5.100000</td>\n",
       "      <td>2.800000</td>\n",
       "      <td>1.600000</td>\n",
       "      <td>0.300000</td>\n",
       "    </tr>\n",
       "    <tr>\n",
       "      <th>50%</th>\n",
       "      <td>5.800000</td>\n",
       "      <td>3.000000</td>\n",
       "      <td>4.350000</td>\n",
       "      <td>1.300000</td>\n",
       "    </tr>\n",
       "    <tr>\n",
       "      <th>75%</th>\n",
       "      <td>6.400000</td>\n",
       "      <td>3.300000</td>\n",
       "      <td>5.100000</td>\n",
       "      <td>1.800000</td>\n",
       "    </tr>\n",
       "    <tr>\n",
       "      <th>max</th>\n",
       "      <td>7.900000</td>\n",
       "      <td>4.400000</td>\n",
       "      <td>6.900000</td>\n",
       "      <td>2.500000</td>\n",
       "    </tr>\n",
       "  </tbody>\n",
       "</table>\n",
       "</div>"
      ],
      "text/plain": [
       "                0           1           2           3\n",
       "count  150.000000  150.000000  150.000000  150.000000\n",
       "mean     5.843333    3.057333    3.758000    1.199333\n",
       "std      0.828066    0.435866    1.765298    0.762238\n",
       "min      4.300000    2.000000    1.000000    0.100000\n",
       "25%      5.100000    2.800000    1.600000    0.300000\n",
       "50%      5.800000    3.000000    4.350000    1.300000\n",
       "75%      6.400000    3.300000    5.100000    1.800000\n",
       "max      7.900000    4.400000    6.900000    2.500000"
      ]
     },
     "execution_count": 26,
     "metadata": {},
     "output_type": "execute_result"
    }
   ],
   "source": [
    "X=pd.DataFrame(X)\n",
    "X.describe()"
   ]
  },
  {
   "cell_type": "code",
   "execution_count": 70,
   "metadata": {},
   "outputs": [
    {
     "data": {
      "text/plain": [
       "array([1, 1, 1, 0, 2, 1, 1, 1, 2, 2, 1, 2, 2, 1, 1, 2, 0, 1, 2, 1, 1, 1,\n",
       "       1, 1, 2, 1, 2, 2, 2, 1, 2, 2, 2, 0, 0, 1, 2, 1, 1, 1, 2, 1, 2, 2,\n",
       "       2])"
      ]
     },
     "execution_count": 70,
     "metadata": {},
     "output_type": "execute_result"
    }
   ],
   "source": [
    "modelb = BernoulliNB(binarize=4.8)\n",
    "modelb.fit(X_train,y_train)\n",
    "modelb.predict(X_test)"
   ]
  },
  {
   "cell_type": "code",
   "execution_count": 71,
   "metadata": {},
   "outputs": [
    {
     "data": {
      "text/plain": [
       "array([[0.42394773, 0.53022878, 0.0458235 ],\n",
       "       [0.42394773, 0.53022878, 0.0458235 ],\n",
       "       [0.42394773, 0.53022878, 0.0458235 ],\n",
       "       [0.92831499, 0.0651726 , 0.00651241],\n",
       "       [0.02045297, 0.11736893, 0.8621781 ],\n",
       "       [0.42394773, 0.53022878, 0.0458235 ],\n",
       "       [0.42394773, 0.53022878, 0.0458235 ],\n",
       "       [0.42394773, 0.53022878, 0.0458235 ],\n",
       "       [0.02045297, 0.11736893, 0.8621781 ],\n",
       "       [0.02045297, 0.11736893, 0.8621781 ],\n",
       "       [0.42394773, 0.53022878, 0.0458235 ],\n",
       "       [0.02045297, 0.11736893, 0.8621781 ],\n",
       "       [0.02045297, 0.11736893, 0.8621781 ],\n",
       "       [0.42394773, 0.53022878, 0.0458235 ],\n",
       "       [0.42394773, 0.53022878, 0.0458235 ],\n",
       "       [0.02045297, 0.11736893, 0.8621781 ],\n",
       "       [0.92831499, 0.0651726 , 0.00651241],\n",
       "       [0.42394773, 0.53022878, 0.0458235 ],\n",
       "       [0.02045297, 0.11736893, 0.8621781 ],\n",
       "       [0.42394773, 0.53022878, 0.0458235 ],\n",
       "       [0.42394773, 0.53022878, 0.0458235 ],\n",
       "       [0.42394773, 0.53022878, 0.0458235 ],\n",
       "       [0.42394773, 0.53022878, 0.0458235 ],\n",
       "       [0.42394773, 0.53022878, 0.0458235 ],\n",
       "       [0.02045297, 0.11736893, 0.8621781 ],\n",
       "       [0.42394773, 0.53022878, 0.0458235 ],\n",
       "       [0.02045297, 0.11736893, 0.8621781 ],\n",
       "       [0.02045297, 0.11736893, 0.8621781 ],\n",
       "       [0.02045297, 0.11736893, 0.8621781 ],\n",
       "       [0.42394773, 0.53022878, 0.0458235 ],\n",
       "       [0.02045297, 0.11736893, 0.8621781 ],\n",
       "       [0.02045297, 0.11736893, 0.8621781 ],\n",
       "       [0.02045297, 0.11736893, 0.8621781 ],\n",
       "       [0.92831499, 0.0651726 , 0.00651241],\n",
       "       [0.92831499, 0.0651726 , 0.00651241],\n",
       "       [0.42394773, 0.53022878, 0.0458235 ],\n",
       "       [0.02045297, 0.11736893, 0.8621781 ],\n",
       "       [0.42394773, 0.53022878, 0.0458235 ],\n",
       "       [0.42394773, 0.53022878, 0.0458235 ],\n",
       "       [0.42394773, 0.53022878, 0.0458235 ],\n",
       "       [0.02045297, 0.11736893, 0.8621781 ],\n",
       "       [0.42394773, 0.53022878, 0.0458235 ],\n",
       "       [0.02045297, 0.11736893, 0.8621781 ],\n",
       "       [0.02045297, 0.11736893, 0.8621781 ],\n",
       "       [0.02045297, 0.11736893, 0.8621781 ]])"
      ]
     },
     "execution_count": 71,
     "metadata": {},
     "output_type": "execute_result"
    }
   ],
   "source": [
    "modelb.predict_proba(X_test)"
   ]
  },
  {
   "cell_type": "code",
   "execution_count": 72,
   "metadata": {},
   "outputs": [
    {
     "name": "stdout",
     "output_type": "stream",
     "text": [
      "Training Set Score: 0.7047619047619048\n",
      "Test Set Score: 0.7777777777777778\n"
     ]
    }
   ],
   "source": [
    "print('Training Set Score:',modelb.score(X_train,y_train))\n",
    "print('Test Set Score:',modelb.score(X_test,y_test))"
   ]
  }
 ],
 "metadata": {
  "kernelspec": {
   "display_name": "Python 3",
   "language": "python",
   "name": "python3"
  },
  "language_info": {
   "codemirror_mode": {
    "name": "ipython",
    "version": 3
   },
   "file_extension": ".py",
   "mimetype": "text/x-python",
   "name": "python",
   "nbconvert_exporter": "python",
   "pygments_lexer": "ipython3",
   "version": "3.11.9"
  }
 },
 "nbformat": 4,
 "nbformat_minor": 2
}
