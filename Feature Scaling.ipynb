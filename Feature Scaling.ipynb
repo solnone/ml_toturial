{
 "cells": [
  {
   "cell_type": "code",
   "execution_count": 1,
   "metadata": {},
   "outputs": [],
   "source": [
    "import pandas as pd\n",
    "import numpy as np\n",
    "import sklearn.preprocessing as sp"
   ]
  },
  {
   "cell_type": "code",
   "execution_count": 2,
   "metadata": {},
   "outputs": [],
   "source": [
    "data1=np.random.randint(0,100,size=50)\n",
    "data2=np.random.randint(100,1000,size=50)"
   ]
  },
  {
   "cell_type": "code",
   "execution_count": 3,
   "metadata": {},
   "outputs": [],
   "source": [
    "df=pd.DataFrame([data1,data2])\n",
    "df=df.T"
   ]
  },
  {
   "cell_type": "code",
   "execution_count": 4,
   "metadata": {},
   "outputs": [
    {
     "data": {
      "text/html": [
       "<div>\n",
       "<style scoped>\n",
       "    .dataframe tbody tr th:only-of-type {\n",
       "        vertical-align: middle;\n",
       "    }\n",
       "\n",
       "    .dataframe tbody tr th {\n",
       "        vertical-align: top;\n",
       "    }\n",
       "\n",
       "    .dataframe thead th {\n",
       "        text-align: right;\n",
       "    }\n",
       "</style>\n",
       "<table border=\"1\" class=\"dataframe\">\n",
       "  <thead>\n",
       "    <tr style=\"text-align: right;\">\n",
       "      <th></th>\n",
       "      <th>0</th>\n",
       "      <th>1</th>\n",
       "    </tr>\n",
       "  </thead>\n",
       "  <tbody>\n",
       "    <tr>\n",
       "      <th>0</th>\n",
       "      <td>99</td>\n",
       "      <td>129</td>\n",
       "    </tr>\n",
       "    <tr>\n",
       "      <th>1</th>\n",
       "      <td>63</td>\n",
       "      <td>757</td>\n",
       "    </tr>\n",
       "    <tr>\n",
       "      <th>2</th>\n",
       "      <td>80</td>\n",
       "      <td>503</td>\n",
       "    </tr>\n",
       "    <tr>\n",
       "      <th>3</th>\n",
       "      <td>52</td>\n",
       "      <td>361</td>\n",
       "    </tr>\n",
       "    <tr>\n",
       "      <th>4</th>\n",
       "      <td>24</td>\n",
       "      <td>701</td>\n",
       "    </tr>\n",
       "    <tr>\n",
       "      <th>5</th>\n",
       "      <td>57</td>\n",
       "      <td>136</td>\n",
       "    </tr>\n",
       "    <tr>\n",
       "      <th>6</th>\n",
       "      <td>51</td>\n",
       "      <td>533</td>\n",
       "    </tr>\n",
       "    <tr>\n",
       "      <th>7</th>\n",
       "      <td>73</td>\n",
       "      <td>838</td>\n",
       "    </tr>\n",
       "    <tr>\n",
       "      <th>8</th>\n",
       "      <td>7</td>\n",
       "      <td>905</td>\n",
       "    </tr>\n",
       "    <tr>\n",
       "      <th>9</th>\n",
       "      <td>2</td>\n",
       "      <td>861</td>\n",
       "    </tr>\n",
       "  </tbody>\n",
       "</table>\n",
       "</div>"
      ],
      "text/plain": [
       "    0    1\n",
       "0  99  129\n",
       "1  63  757\n",
       "2  80  503\n",
       "3  52  361\n",
       "4  24  701\n",
       "5  57  136\n",
       "6  51  533\n",
       "7  73  838\n",
       "8   7  905\n",
       "9   2  861"
      ]
     },
     "execution_count": 4,
     "metadata": {},
     "output_type": "execute_result"
    }
   ],
   "source": [
    "df.head(10)"
   ]
  },
  {
   "cell_type": "code",
   "execution_count": 5,
   "metadata": {},
   "outputs": [
    {
     "data": {
      "text/html": [
       "<div>\n",
       "<style scoped>\n",
       "    .dataframe tbody tr th:only-of-type {\n",
       "        vertical-align: middle;\n",
       "    }\n",
       "\n",
       "    .dataframe tbody tr th {\n",
       "        vertical-align: top;\n",
       "    }\n",
       "\n",
       "    .dataframe thead th {\n",
       "        text-align: right;\n",
       "    }\n",
       "</style>\n",
       "<table border=\"1\" class=\"dataframe\">\n",
       "  <thead>\n",
       "    <tr style=\"text-align: right;\">\n",
       "      <th></th>\n",
       "      <th>0</th>\n",
       "      <th>1</th>\n",
       "    </tr>\n",
       "  </thead>\n",
       "  <tbody>\n",
       "    <tr>\n",
       "      <th>count</th>\n",
       "      <td>50.000000</td>\n",
       "      <td>50.000000</td>\n",
       "    </tr>\n",
       "    <tr>\n",
       "      <th>mean</th>\n",
       "      <td>51.940000</td>\n",
       "      <td>529.020000</td>\n",
       "    </tr>\n",
       "    <tr>\n",
       "      <th>std</th>\n",
       "      <td>28.998529</td>\n",
       "      <td>259.162741</td>\n",
       "    </tr>\n",
       "    <tr>\n",
       "      <th>min</th>\n",
       "      <td>0.000000</td>\n",
       "      <td>126.000000</td>\n",
       "    </tr>\n",
       "    <tr>\n",
       "      <th>25%</th>\n",
       "      <td>29.000000</td>\n",
       "      <td>346.000000</td>\n",
       "    </tr>\n",
       "    <tr>\n",
       "      <th>50%</th>\n",
       "      <td>53.500000</td>\n",
       "      <td>510.500000</td>\n",
       "    </tr>\n",
       "    <tr>\n",
       "      <th>75%</th>\n",
       "      <td>71.750000</td>\n",
       "      <td>769.000000</td>\n",
       "    </tr>\n",
       "    <tr>\n",
       "      <th>max</th>\n",
       "      <td>99.000000</td>\n",
       "      <td>991.000000</td>\n",
       "    </tr>\n",
       "  </tbody>\n",
       "</table>\n",
       "</div>"
      ],
      "text/plain": [
       "               0           1\n",
       "count  50.000000   50.000000\n",
       "mean   51.940000  529.020000\n",
       "std    28.998529  259.162741\n",
       "min     0.000000  126.000000\n",
       "25%    29.000000  346.000000\n",
       "50%    53.500000  510.500000\n",
       "75%    71.750000  769.000000\n",
       "max    99.000000  991.000000"
      ]
     },
     "execution_count": 5,
     "metadata": {},
     "output_type": "execute_result"
    }
   ],
   "source": [
    "df.describe()"
   ]
  },
  {
   "cell_type": "markdown",
   "metadata": {},
   "source": [
    "# Rescaling"
   ]
  },
  {
   "cell_type": "markdown",
   "metadata": {},
   "source": [
    "# $$x^*=\\frac{x-x_{min}}{x_{max}-x_{min}}$$"
   ]
  },
  {
   "cell_type": "code",
   "execution_count": 6,
   "metadata": {},
   "outputs": [],
   "source": [
    "FS_1=sp.MinMaxScaler().fit(df)\n",
    "result_minmax=FS_1.transform(df)"
   ]
  },
  {
   "cell_type": "code",
   "execution_count": 7,
   "metadata": {},
   "outputs": [
    {
     "data": {
      "text/plain": [
       "array([[1.        , 0.00346821],\n",
       "       [0.63636364, 0.72947977],\n",
       "       [0.80808081, 0.43583815],\n",
       "       [0.52525253, 0.2716763 ],\n",
       "       [0.24242424, 0.66473988],\n",
       "       [0.57575758, 0.01156069],\n",
       "       [0.51515152, 0.47052023],\n",
       "       [0.73737374, 0.82312139],\n",
       "       [0.07070707, 0.90057803],\n",
       "       [0.02020202, 0.84971098],\n",
       "       [0.28282828, 0.51791908],\n",
       "       [0.64646465, 0.06820809],\n",
       "       [0.65656566, 0.38034682],\n",
       "       [0.88888889, 0.14450867],\n",
       "       [0.25252525, 0.2867052 ],\n",
       "       [0.93939394, 0.29479769],\n",
       "       [0.28282828, 0.45317919],\n",
       "       [0.8989899 , 0.35375723],\n",
       "       [0.88888889, 0.34219653],\n",
       "       [0.45454545, 0.12254335],\n",
       "       [0.53535354, 0.24855491],\n",
       "       [0.15151515, 0.61156069],\n",
       "       [0.02020202, 0.38150289],\n",
       "       [0.32323232, 0.82312139],\n",
       "       [0.91919192, 0.99768786],\n",
       "       [0.98989899, 0.21734104],\n",
       "       [0.54545455, 0.52601156],\n",
       "       [0.50505051, 0.67745665],\n",
       "       [0.03030303, 0.46705202],\n",
       "       [0.07070707, 0.21618497],\n",
       "       [0.67676768, 0.03121387],\n",
       "       [0.67676768, 0.86820809],\n",
       "       [0.86868687, 0.07745665],\n",
       "       [0.12121212, 0.30057803],\n",
       "       [0.63636364, 0.06820809],\n",
       "       [0.88888889, 0.32254335],\n",
       "       [0.54545455, 0.        ],\n",
       "       [0.54545455, 0.43236994],\n",
       "       [0.41414141, 1.        ],\n",
       "       [0.64646465, 0.2867052 ],\n",
       "       [0.35353535, 0.74797688],\n",
       "       [0.53535354, 0.52716763],\n",
       "       [0.25252525, 0.89248555],\n",
       "       [0.43434343, 0.76069364],\n",
       "       [0.8989899 , 0.64971098],\n",
       "       [0.88888889, 0.05549133],\n",
       "       [0.34343434, 0.98265896],\n",
       "       [0.68686869, 0.49710983],\n",
       "       [0.4040404 , 0.75144509],\n",
       "       [0.        , 0.75260116]])"
      ]
     },
     "execution_count": 7,
     "metadata": {},
     "output_type": "execute_result"
    }
   ],
   "source": [
    "result_minmax"
   ]
  },
  {
   "cell_type": "markdown",
   "metadata": {},
   "source": [
    "# Standardization"
   ]
  },
  {
   "cell_type": "markdown",
   "metadata": {},
   "source": [
    "# $$x^*=\\frac{x-\\mu}{\\sigma}$$"
   ]
  },
  {
   "cell_type": "code",
   "execution_count": 8,
   "metadata": {},
   "outputs": [],
   "source": [
    "FS_2=sp.StandardScaler().fit(df)\n",
    "result_std=FS_2.transform(df)"
   ]
  },
  {
   "cell_type": "code",
   "execution_count": 9,
   "metadata": {},
   "outputs": [
    {
     "data": {
      "text/plain": [
       "array([[ 1.63931689, -1.55917946],\n",
       "       [ 0.38527082,  0.8886099 ],\n",
       "       [ 0.97745924, -0.10141955],\n",
       "       [ 0.00209008, -0.65490059],\n",
       "       [-0.97327909,  0.67033569],\n",
       "       [ 0.17626314, -1.53189518],\n",
       "       [-0.03274454,  0.01551306],\n",
       "       [ 0.73361695,  1.20432795],\n",
       "       [-1.56546751,  1.46547746],\n",
       "       [-1.73964058,  1.29397629],\n",
       "       [-0.83394064,  0.17532096],\n",
       "       [ 0.42010543, -1.34090525],\n",
       "       [ 0.45494005, -0.28851173],\n",
       "       [ 1.25613615, -1.0836535 ],\n",
       "       [-0.93844448, -0.60422979],\n",
       "       [ 1.43030921, -0.57694551],\n",
       "       [-0.83394064, -0.04295325],\n",
       "       [ 1.29097076, -0.37816007],\n",
       "       [ 1.25613615, -0.41713761],\n",
       "       [-0.24175222, -1.15771082],\n",
       "       [ 0.03692469, -0.73285566],\n",
       "       [-1.28679061,  0.49103902],\n",
       "       [-1.73964058, -0.28461398],\n",
       "       [-0.69460219,  1.20432795],\n",
       "       [ 1.36063999,  1.79288877],\n",
       "       [ 1.60448228, -0.83809501],\n",
       "       [ 0.0717593 ,  0.20260524],\n",
       "       [-0.06757915,  0.71321098],\n",
       "       [-1.70480597,  0.0038198 ],\n",
       "       [-1.56546751, -0.84199277],\n",
       "       [ 0.52460927, -1.46563337],\n",
       "       [ 0.52460927,  1.35634035],\n",
       "       [ 1.18646692, -1.30972322],\n",
       "       [-1.39129445, -0.55745674],\n",
       "       [ 0.38527082, -1.34090525],\n",
       "       [ 1.25613615, -0.48339942],\n",
       "       [ 0.0717593 , -1.57087272],\n",
       "       [ 0.0717593 , -0.11311281],\n",
       "       [-0.38109067,  1.80068428],\n",
       "       [ 0.42010543, -0.60422979],\n",
       "       [-0.59009835,  0.95097396],\n",
       "       [ 0.03692469,  0.20650299],\n",
       "       [-0.93844448,  1.43819318],\n",
       "       [-0.31142144,  0.99384925],\n",
       "       [ 1.29097076,  0.61966489],\n",
       "       [ 1.25613615, -1.38378054],\n",
       "       [-0.62493296,  1.74221797],\n",
       "       [ 0.55944389,  0.1051614 ],\n",
       "       [-0.41592528,  0.96266722],\n",
       "       [-1.80930981,  0.96656498]])"
      ]
     },
     "execution_count": 9,
     "metadata": {},
     "output_type": "execute_result"
    }
   ],
   "source": [
    "result_std"
   ]
  },
  {
   "cell_type": "code",
   "execution_count": 10,
   "metadata": {},
   "outputs": [
    {
     "data": {
      "text/plain": [
       "np.float64(8.659739592076221e-17)"
      ]
     },
     "execution_count": 10,
     "metadata": {},
     "output_type": "execute_result"
    }
   ],
   "source": [
    "result_std[:,1].mean()"
   ]
  },
  {
   "cell_type": "code",
   "execution_count": 11,
   "metadata": {},
   "outputs": [
    {
     "data": {
      "text/plain": [
       "np.float64(1.0)"
      ]
     },
     "execution_count": 11,
     "metadata": {},
     "output_type": "execute_result"
    }
   ],
   "source": [
    "result_std[:,1].std()"
   ]
  }
 ],
 "metadata": {
  "kernelspec": {
   "display_name": "Python 3",
   "language": "python",
   "name": "python3"
  },
  "language_info": {
   "codemirror_mode": {
    "name": "ipython",
    "version": 3
   },
   "file_extension": ".py",
   "mimetype": "text/x-python",
   "name": "python",
   "nbconvert_exporter": "python",
   "pygments_lexer": "ipython3",
   "version": "3.11.9"
  }
 },
 "nbformat": 4,
 "nbformat_minor": 2
}
